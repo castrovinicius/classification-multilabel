{
  "cells": [
    {
      "attachments": {},
      "cell_type": "markdown",
      "metadata": {},
      "source": [
        "# Libraries"
      ]
    },
    {
      "cell_type": "code",
      "execution_count": 29,
      "metadata": {
        "id": "x-YQUDjE7EBd"
      },
      "outputs": [],
      "source": [
        "import pandas as pd\n",
        "import numpy as np\n",
        "\n",
        "from sklearn.model_selection import train_test_split\n",
        "from sklearn.feature_extraction.text import TfidfVectorizer\n",
        "from sklearn.multiclass import OneVsRestClassifier\n",
        "from sklearn.linear_model import LogisticRegression\n",
        "from sklearn.metrics import hamming_loss\n",
        "\n",
        "from skmultilearn.problem_transform import ClassifierChain, BinaryRelevance\n",
        "from skmultilearn.adapt import MLkNN"
      ]
    },
    {
      "attachments": {},
      "cell_type": "markdown",
      "metadata": {},
      "source": [
        "# DataFrame"
      ]
    },
    {
      "cell_type": "code",
      "execution_count": 30,
      "metadata": {
        "colab": {
          "base_uri": "https://localhost:8080/",
          "height": 206
        },
        "id": "hI4fpbh47WIH",
        "outputId": "057490d5-bc3b-4610-e730-8b23dedc34d2"
      },
      "outputs": [
        {
          "data": {
            "text/html": [
              "<div>\n",
              "<style scoped>\n",
              "    .dataframe tbody tr th:only-of-type {\n",
              "        vertical-align: middle;\n",
              "    }\n",
              "\n",
              "    .dataframe tbody tr th {\n",
              "        vertical-align: top;\n",
              "    }\n",
              "\n",
              "    .dataframe thead th {\n",
              "        text-align: right;\n",
              "    }\n",
              "</style>\n",
              "<table border=\"1\" class=\"dataframe\">\n",
              "  <thead>\n",
              "    <tr style=\"text-align: right;\">\n",
              "      <th></th>\n",
              "      <th>Perguntas</th>\n",
              "      <th>Tags</th>\n",
              "    </tr>\n",
              "  </thead>\n",
              "  <tbody>\n",
              "    <tr>\n",
              "      <th>0</th>\n",
              "      <td>Possuo um projeto Node.js porém preciso criar ...</td>\n",
              "      <td>node.js</td>\n",
              "    </tr>\n",
              "    <tr>\n",
              "      <th>1</th>\n",
              "      <td>Gostaria de fazer testes unitários no Node.js,...</td>\n",
              "      <td>node.js</td>\n",
              "    </tr>\n",
              "    <tr>\n",
              "      <th>2</th>\n",
              "      <td>Como inverter a ordem com que o jQuery itera u...</td>\n",
              "      <td>jquery</td>\n",
              "    </tr>\n",
              "    <tr>\n",
              "      <th>3</th>\n",
              "      <td>Eu tenho uma página onde pretendo utilizar um ...</td>\n",
              "      <td>html</td>\n",
              "    </tr>\n",
              "    <tr>\n",
              "      <th>4</th>\n",
              "      <td>Como exibir os dados retornados do FireStore e...</td>\n",
              "      <td>html angular</td>\n",
              "    </tr>\n",
              "  </tbody>\n",
              "</table>\n",
              "</div>"
            ],
            "text/plain": [
              "                                           Perguntas           Tags\n",
              "0  Possuo um projeto Node.js porém preciso criar ...        node.js\n",
              "1  Gostaria de fazer testes unitários no Node.js,...        node.js\n",
              "2  Como inverter a ordem com que o jQuery itera u...         jquery\n",
              "3  Eu tenho uma página onde pretendo utilizar um ...           html\n",
              "4  Como exibir os dados retornados do FireStore e...  html angular "
            ]
          },
          "execution_count": 30,
          "metadata": {},
          "output_type": "execute_result"
        }
      ],
      "source": [
        "df_perguntas = pd.read_csv(\"data\\stackoverflow_perguntas.csv\")\n",
        "df_perguntas.head()"
      ]
    },
    {
      "attachments": {},
      "cell_type": "markdown",
      "metadata": {},
      "source": [
        "# Investigation"
      ]
    },
    {
      "cell_type": "code",
      "execution_count": 31,
      "metadata": {
        "colab": {
          "base_uri": "https://localhost:8080/"
        },
        "id": "fPV-ZnmV7jdy",
        "outputId": "7f421bbd-ad7f-4338-f49f-29e91d89e688"
      },
      "outputs": [
        {
          "name": "stdout",
          "output_type": "stream",
          "text": [
            "Quantidade de perguntas: 5408\n",
            "Quantidade de tags unicas: 37\n"
          ]
        }
      ],
      "source": [
        "print(f\"Quantidade de perguntas: {len(df_perguntas)}\")\n",
        "print(f\"Quantidade de tags unicas: {len(df_perguntas['Tags'].unique())}\")"
      ]
    },
    {
      "cell_type": "code",
      "execution_count": 32,
      "metadata": {
        "colab": {
          "base_uri": "https://localhost:8080/"
        },
        "id": "FeP8Ro_oUboq",
        "outputId": "7bfe8518-34de-41ee-b63b-95af824c8cfe"
      },
      "outputs": [
        {
          "name": "stdout",
          "output_type": "stream",
          "text": [
            "['node.js' 'jquery' 'html' 'html angular ' 'html ' 'angular' 'angular '\n",
            " 'jquery html  ' 'jquery ' 'jquery html' 'jquery html ' 'html angular'\n",
            " 'angular node.js ' 'html  ' 'jquery html angular' 'node.js '\n",
            " 'html jquery' 'html jquery ' 'jquery angular  ' 'html node.js' 'jquery  '\n",
            " 'angular node.js' 'jquery angular' 'html node.js ' 'jquery node.js '\n",
            " 'angular  ' 'jquery angular ' 'jquery html angular ' 'node.js html '\n",
            " ' node.js' 'node.js html' 'html angular  ' 'jquery node.js'\n",
            " 'angular html' 'html angular  node.js' 'jquery html node.js'\n",
            " 'html angular node.js']\n"
          ]
        }
      ],
      "source": [
        "print(df_perguntas[\"Tags\"].unique())"
      ]
    },
    {
      "cell_type": "code",
      "execution_count": 33,
      "metadata": {
        "colab": {
          "base_uri": "https://localhost:8080/"
        },
        "id": "EXK0bdlMUqYV",
        "outputId": "5fb0a432-961f-4277-a4ea-fdb595dda1ee"
      },
      "outputs": [
        {
          "name": "stdout",
          "output_type": "stream",
          "text": [
            "['node.js', 'jquery', 'html', 'angular']\n"
          ]
        }
      ],
      "source": [
        "# criando uma lista de tags únicas a partir do dataframe de perguntas.\n",
        "\n",
        "lista_de_tags = list()\n",
        "\n",
        "for tags in df_perguntas[\"Tags\"].unique():\n",
        "    for tag in tags.split():\n",
        "        if tag not in lista_de_tags:\n",
        "            lista_de_tags.append(tag)\n",
        "\n",
        "print(lista_de_tags)"
      ]
    },
    {
      "cell_type": "code",
      "execution_count": 34,
      "metadata": {
        "id": "7GNByeRlWyTB"
      },
      "outputs": [],
      "source": [
        "# testando para node.js\n",
        "\n",
        "node_js = list()\n",
        "\n",
        "for linha_tag in df_perguntas[\"Tags\"]:\n",
        "    if \"node.js\" in linha_tag:\n",
        "        node_js.append(1)\n",
        "    else:\n",
        "        node_js.append(0)\n",
        "\n",
        "df_perguntas[\"node.js\"] = node_js"
      ]
    },
    {
      "cell_type": "code",
      "execution_count": 35,
      "metadata": {
        "colab": {
          "base_uri": "https://localhost:8080/",
          "height": 424
        },
        "id": "5tLKyarfXNfF",
        "outputId": "f0f2354e-99a1-4368-e912-aede31258c8b"
      },
      "outputs": [
        {
          "data": {
            "text/html": [
              "<div>\n",
              "<style scoped>\n",
              "    .dataframe tbody tr th:only-of-type {\n",
              "        vertical-align: middle;\n",
              "    }\n",
              "\n",
              "    .dataframe tbody tr th {\n",
              "        vertical-align: top;\n",
              "    }\n",
              "\n",
              "    .dataframe thead th {\n",
              "        text-align: right;\n",
              "    }\n",
              "</style>\n",
              "<table border=\"1\" class=\"dataframe\">\n",
              "  <thead>\n",
              "    <tr style=\"text-align: right;\">\n",
              "      <th></th>\n",
              "      <th>Perguntas</th>\n",
              "      <th>Tags</th>\n",
              "      <th>node.js</th>\n",
              "    </tr>\n",
              "  </thead>\n",
              "  <tbody>\n",
              "    <tr>\n",
              "      <th>0</th>\n",
              "      <td>Possuo um projeto Node.js porém preciso criar ...</td>\n",
              "      <td>node.js</td>\n",
              "      <td>1</td>\n",
              "    </tr>\n",
              "    <tr>\n",
              "      <th>1</th>\n",
              "      <td>Gostaria de fazer testes unitários no Node.js,...</td>\n",
              "      <td>node.js</td>\n",
              "      <td>1</td>\n",
              "    </tr>\n",
              "    <tr>\n",
              "      <th>2</th>\n",
              "      <td>Como inverter a ordem com que o jQuery itera u...</td>\n",
              "      <td>jquery</td>\n",
              "      <td>0</td>\n",
              "    </tr>\n",
              "    <tr>\n",
              "      <th>3</th>\n",
              "      <td>Eu tenho uma página onde pretendo utilizar um ...</td>\n",
              "      <td>html</td>\n",
              "      <td>0</td>\n",
              "    </tr>\n",
              "    <tr>\n",
              "      <th>4</th>\n",
              "      <td>Como exibir os dados retornados do FireStore e...</td>\n",
              "      <td>html angular</td>\n",
              "      <td>0</td>\n",
              "    </tr>\n",
              "    <tr>\n",
              "      <th>...</th>\n",
              "      <td>...</td>\n",
              "      <td>...</td>\n",
              "      <td>...</td>\n",
              "    </tr>\n",
              "    <tr>\n",
              "      <th>5403</th>\n",
              "      <td>Queria saber como pegar o total de cores de um...</td>\n",
              "      <td>jquery html</td>\n",
              "      <td>0</td>\n",
              "    </tr>\n",
              "    <tr>\n",
              "      <th>5404</th>\n",
              "      <td>Boa noite, estou usando phonegap para fazer um...</td>\n",
              "      <td>html</td>\n",
              "      <td>0</td>\n",
              "    </tr>\n",
              "    <tr>\n",
              "      <th>5405</th>\n",
              "      <td>Estou construindo um mini fórum, e nele, os us...</td>\n",
              "      <td>jquery html</td>\n",
              "      <td>0</td>\n",
              "    </tr>\n",
              "    <tr>\n",
              "      <th>5406</th>\n",
              "      <td>Boa tarde,  Estou para desenvolver um site na ...</td>\n",
              "      <td>html</td>\n",
              "      <td>0</td>\n",
              "    </tr>\n",
              "    <tr>\n",
              "      <th>5407</th>\n",
              "      <td>Estou fazendo um hotsite, ele é one page, e é ...</td>\n",
              "      <td>jquery html</td>\n",
              "      <td>0</td>\n",
              "    </tr>\n",
              "  </tbody>\n",
              "</table>\n",
              "<p>5408 rows × 3 columns</p>\n",
              "</div>"
            ],
            "text/plain": [
              "                                              Perguntas           Tags  \\\n",
              "0     Possuo um projeto Node.js porém preciso criar ...        node.js   \n",
              "1     Gostaria de fazer testes unitários no Node.js,...        node.js   \n",
              "2     Como inverter a ordem com que o jQuery itera u...         jquery   \n",
              "3     Eu tenho uma página onde pretendo utilizar um ...           html   \n",
              "4     Como exibir os dados retornados do FireStore e...  html angular    \n",
              "...                                                 ...            ...   \n",
              "5403  Queria saber como pegar o total de cores de um...   jquery html    \n",
              "5404  Boa noite, estou usando phonegap para fazer um...          html    \n",
              "5405  Estou construindo um mini fórum, e nele, os us...    jquery html   \n",
              "5406  Boa tarde,  Estou para desenvolver um site na ...           html   \n",
              "5407  Estou fazendo um hotsite, ele é one page, e é ...    jquery html   \n",
              "\n",
              "      node.js  \n",
              "0           1  \n",
              "1           1  \n",
              "2           0  \n",
              "3           0  \n",
              "4           0  \n",
              "...       ...  \n",
              "5403        0  \n",
              "5404        0  \n",
              "5405        0  \n",
              "5406        0  \n",
              "5407        0  \n",
              "\n",
              "[5408 rows x 3 columns]"
            ]
          },
          "execution_count": 35,
          "metadata": {},
          "output_type": "execute_result"
        }
      ],
      "source": [
        "df_perguntas"
      ]
    },
    {
      "cell_type": "code",
      "execution_count": 36,
      "metadata": {
        "id": "ZqFGEq4RXPZw"
      },
      "outputs": [],
      "source": [
        "\"\"\"\n",
        "A função percorre a lista de tags e, para cada tag, verifica se ela está presente na coluna de tags do dataframe.\n",
        "Se a tag estiver presente, um valor de 1 é adicionado à coluna correspondente; caso contrário, um valor de 0 é adicionado.\n",
        "Ao final da execução da função, existirá uma nova coluna para cada tag na lista com os valores 0 ou 1.\n",
        "\"\"\"\n",
        "\n",
        "def nova_coluna(lista_tag, dataframe, nome_tags):\n",
        "    for tag in lista_tag:\n",
        "        coluna = list()\n",
        "        for linha_tag in dataframe[nome_tags]:\n",
        "            if tag in linha_tag:\n",
        "                coluna.append(1)\n",
        "            else:\n",
        "                coluna.append(0)\n",
        "        \n",
        "        dataframe[tag] = coluna"
      ]
    },
    {
      "cell_type": "code",
      "execution_count": 37,
      "metadata": {
        "id": "kpO1OGwrYlM5"
      },
      "outputs": [
        {
          "data": {
            "text/html": [
              "<div>\n",
              "<style scoped>\n",
              "    .dataframe tbody tr th:only-of-type {\n",
              "        vertical-align: middle;\n",
              "    }\n",
              "\n",
              "    .dataframe tbody tr th {\n",
              "        vertical-align: top;\n",
              "    }\n",
              "\n",
              "    .dataframe thead th {\n",
              "        text-align: right;\n",
              "    }\n",
              "</style>\n",
              "<table border=\"1\" class=\"dataframe\">\n",
              "  <thead>\n",
              "    <tr style=\"text-align: right;\">\n",
              "      <th></th>\n",
              "      <th>Perguntas</th>\n",
              "      <th>Tags</th>\n",
              "      <th>node.js</th>\n",
              "      <th>jquery</th>\n",
              "      <th>html</th>\n",
              "      <th>angular</th>\n",
              "    </tr>\n",
              "  </thead>\n",
              "  <tbody>\n",
              "    <tr>\n",
              "      <th>0</th>\n",
              "      <td>Possuo um projeto Node.js porém preciso criar ...</td>\n",
              "      <td>node.js</td>\n",
              "      <td>1</td>\n",
              "      <td>0</td>\n",
              "      <td>0</td>\n",
              "      <td>0</td>\n",
              "    </tr>\n",
              "    <tr>\n",
              "      <th>1</th>\n",
              "      <td>Gostaria de fazer testes unitários no Node.js,...</td>\n",
              "      <td>node.js</td>\n",
              "      <td>1</td>\n",
              "      <td>0</td>\n",
              "      <td>0</td>\n",
              "      <td>0</td>\n",
              "    </tr>\n",
              "    <tr>\n",
              "      <th>2</th>\n",
              "      <td>Como inverter a ordem com que o jQuery itera u...</td>\n",
              "      <td>jquery</td>\n",
              "      <td>0</td>\n",
              "      <td>1</td>\n",
              "      <td>0</td>\n",
              "      <td>0</td>\n",
              "    </tr>\n",
              "    <tr>\n",
              "      <th>3</th>\n",
              "      <td>Eu tenho uma página onde pretendo utilizar um ...</td>\n",
              "      <td>html</td>\n",
              "      <td>0</td>\n",
              "      <td>0</td>\n",
              "      <td>1</td>\n",
              "      <td>0</td>\n",
              "    </tr>\n",
              "    <tr>\n",
              "      <th>4</th>\n",
              "      <td>Como exibir os dados retornados do FireStore e...</td>\n",
              "      <td>html angular</td>\n",
              "      <td>0</td>\n",
              "      <td>0</td>\n",
              "      <td>1</td>\n",
              "      <td>1</td>\n",
              "    </tr>\n",
              "  </tbody>\n",
              "</table>\n",
              "</div>"
            ],
            "text/plain": [
              "                                           Perguntas           Tags  node.js  \\\n",
              "0  Possuo um projeto Node.js porém preciso criar ...        node.js        1   \n",
              "1  Gostaria de fazer testes unitários no Node.js,...        node.js        1   \n",
              "2  Como inverter a ordem com que o jQuery itera u...         jquery        0   \n",
              "3  Eu tenho uma página onde pretendo utilizar um ...           html        0   \n",
              "4  Como exibir os dados retornados do FireStore e...  html angular         0   \n",
              "\n",
              "   jquery  html  angular  \n",
              "0       0     0        0  \n",
              "1       0     0        0  \n",
              "2       1     0        0  \n",
              "3       0     1        0  \n",
              "4       0     1        1  "
            ]
          },
          "execution_count": 37,
          "metadata": {},
          "output_type": "execute_result"
        }
      ],
      "source": [
        "nova_coluna(lista_de_tags, df_perguntas, \"Tags\")\n",
        "df_perguntas.head()"
      ]
    },
    {
      "cell_type": "code",
      "execution_count": 38,
      "metadata": {
        "colab": {
          "base_uri": "https://localhost:8080/",
          "height": 206
        },
        "id": "wHFYG3lhzD4I",
        "outputId": "fcd45d72-f51e-4d14-de0d-5b90b47f5546"
      },
      "outputs": [
        {
          "data": {
            "text/html": [
              "<div>\n",
              "<style scoped>\n",
              "    .dataframe tbody tr th:only-of-type {\n",
              "        vertical-align: middle;\n",
              "    }\n",
              "\n",
              "    .dataframe tbody tr th {\n",
              "        vertical-align: top;\n",
              "    }\n",
              "\n",
              "    .dataframe thead th {\n",
              "        text-align: right;\n",
              "    }\n",
              "</style>\n",
              "<table border=\"1\" class=\"dataframe\">\n",
              "  <thead>\n",
              "    <tr style=\"text-align: right;\">\n",
              "      <th></th>\n",
              "      <th>Perguntas</th>\n",
              "      <th>Tags</th>\n",
              "      <th>node.js</th>\n",
              "      <th>jquery</th>\n",
              "      <th>html</th>\n",
              "      <th>angular</th>\n",
              "      <th>todas_tags</th>\n",
              "    </tr>\n",
              "  </thead>\n",
              "  <tbody>\n",
              "    <tr>\n",
              "      <th>0</th>\n",
              "      <td>Possuo um projeto Node.js porém preciso criar ...</td>\n",
              "      <td>node.js</td>\n",
              "      <td>1</td>\n",
              "      <td>0</td>\n",
              "      <td>0</td>\n",
              "      <td>0</td>\n",
              "      <td>(1, 0, 0, 0)</td>\n",
              "    </tr>\n",
              "    <tr>\n",
              "      <th>1</th>\n",
              "      <td>Gostaria de fazer testes unitários no Node.js,...</td>\n",
              "      <td>node.js</td>\n",
              "      <td>1</td>\n",
              "      <td>0</td>\n",
              "      <td>0</td>\n",
              "      <td>0</td>\n",
              "      <td>(1, 0, 0, 0)</td>\n",
              "    </tr>\n",
              "    <tr>\n",
              "      <th>2</th>\n",
              "      <td>Como inverter a ordem com que o jQuery itera u...</td>\n",
              "      <td>jquery</td>\n",
              "      <td>0</td>\n",
              "      <td>1</td>\n",
              "      <td>0</td>\n",
              "      <td>0</td>\n",
              "      <td>(0, 1, 0, 0)</td>\n",
              "    </tr>\n",
              "    <tr>\n",
              "      <th>3</th>\n",
              "      <td>Eu tenho uma página onde pretendo utilizar um ...</td>\n",
              "      <td>html</td>\n",
              "      <td>0</td>\n",
              "      <td>0</td>\n",
              "      <td>1</td>\n",
              "      <td>0</td>\n",
              "      <td>(0, 0, 1, 0)</td>\n",
              "    </tr>\n",
              "    <tr>\n",
              "      <th>4</th>\n",
              "      <td>Como exibir os dados retornados do FireStore e...</td>\n",
              "      <td>html angular</td>\n",
              "      <td>0</td>\n",
              "      <td>0</td>\n",
              "      <td>1</td>\n",
              "      <td>1</td>\n",
              "      <td>(0, 0, 1, 1)</td>\n",
              "    </tr>\n",
              "  </tbody>\n",
              "</table>\n",
              "</div>"
            ],
            "text/plain": [
              "                                           Perguntas           Tags  node.js  \\\n",
              "0  Possuo um projeto Node.js porém preciso criar ...        node.js        1   \n",
              "1  Gostaria de fazer testes unitários no Node.js,...        node.js        1   \n",
              "2  Como inverter a ordem com que o jQuery itera u...         jquery        0   \n",
              "3  Eu tenho uma página onde pretendo utilizar um ...           html        0   \n",
              "4  Como exibir os dados retornados do FireStore e...  html angular         0   \n",
              "\n",
              "   jquery  html  angular    todas_tags  \n",
              "0       0     0        0  (1, 0, 0, 0)  \n",
              "1       0     0        0  (1, 0, 0, 0)  \n",
              "2       1     0        0  (0, 1, 0, 0)  \n",
              "3       0     1        0  (0, 0, 1, 0)  \n",
              "4       0     1        1  (0, 0, 1, 1)  "
            ]
          },
          "execution_count": 38,
          "metadata": {},
          "output_type": "execute_result"
        }
      ],
      "source": [
        "# condensando as tags em uma lista e adicionando-as em uma nova coluna\n",
        "\n",
        "lista_zip_tags = list(zip(df_perguntas[\"node.js\"], df_perguntas[\"jquery\"], df_perguntas[\"html\"], df_perguntas[\"angular\"]))\n",
        "\n",
        "df_perguntas[\"todas_tags\"] = lista_zip_tags\n",
        "df_perguntas.head()"
      ]
    },
    {
      "attachments": {},
      "cell_type": "markdown",
      "metadata": {},
      "source": [
        "# Algorithms ML"
      ]
    },
    {
      "cell_type": "code",
      "execution_count": 39,
      "metadata": {
        "id": "WqV_22XyYtd2"
      },
      "outputs": [],
      "source": [
        "# separando os dados de treino e teste\n",
        "\n",
        "perguntas_treino, perguntas_teste, tags_treino, tags_teste = train_test_split(df_perguntas[\"Perguntas\"], df_perguntas[\"todas_tags\"], test_size=0.2, random_state=42)"
      ]
    },
    {
      "cell_type": "code",
      "execution_count": 40,
      "metadata": {
        "colab": {
          "base_uri": "https://localhost:8080/"
        },
        "id": "9_6_Zri60xx1",
        "outputId": "3743de19-c3b4-4281-dc40-e9a5cacbf765"
      },
      "outputs": [
        {
          "data": {
            "text/plain": [
              "5174    Preciso que depois que inicio a aplicação ela ...\n",
              "2685    Assim como é especificado na tag p abaixo como...\n",
              "1010    Estou tentando obter o valor data no campo uti...\n",
              "1029    Preciso retornar um valor de CNPJ com uma másc...\n",
              "4666    Estou com problemas para popular uma select co...\n",
              "Name: Perguntas, dtype: object"
            ]
          },
          "execution_count": 40,
          "metadata": {},
          "output_type": "execute_result"
        }
      ],
      "source": [
        "perguntas_treino.head()"
      ]
    },
    {
      "cell_type": "code",
      "execution_count": 41,
      "metadata": {
        "id": "gFh6DG0p02Ak"
      },
      "outputs": [
        {
          "name": "stdout",
          "output_type": "stream",
          "text": [
            "(4326, 5000)\n",
            "(1082, 5000)\n"
          ]
        }
      ],
      "source": [
        "\"\"\"\n",
        "utilizando a TF-IDF, que é a técnica para transformar a linguagem humana em números. É uma técnica que vai dar valores diferentes para as palavras.\n",
        "As que tem significância maior, um grau de distinção entre uma frase e outra, recebe um valor maior.\n",
        "\"\"\"\n",
        "\n",
        "vectorizar = TfidfVectorizer(max_features=5000, max_df=0.85)\n",
        "\n",
        "vectorizar.fit(df_perguntas.Perguntas)\n",
        "perguntas_treino_tfidf = vectorizar.transform(perguntas_treino)\n",
        "perguntas_teste_tfidf = vectorizar.transform(perguntas_teste)\n",
        "\n",
        "print(perguntas_treino_tfidf.shape)\n",
        "print(perguntas_teste_tfidf.shape)"
      ]
    },
    {
      "attachments": {},
      "cell_type": "markdown",
      "metadata": {},
      "source": [
        "## One-vs-Rest strategy with Logistic Regression"
      ]
    },
    {
      "cell_type": "code",
      "execution_count": 42,
      "metadata": {},
      "outputs": [],
      "source": [
        "tags_treino_array = np.asarray(list(tags_treino))\n",
        "tags_teste_array = np.asarray(list(tags_teste))"
      ]
    },
    {
      "cell_type": "code",
      "execution_count": 43,
      "metadata": {
        "id": "dqNaCAut3T0m"
      },
      "outputs": [
        {
          "name": "stdout",
          "output_type": "stream",
          "text": [
            "Resultado  39.65%\n",
            "Hamming Loss  0.19\n"
          ]
        }
      ],
      "source": [
        "regressao_logistica = LogisticRegression()\n",
        "\n",
        "classificador_onevsrest = OneVsRestClassifier(regressao_logistica)\n",
        "classificador_onevsrest.fit(perguntas_treino_tfidf, tags_treino_array)\n",
        "resultado_onevsrest = classificador_onevsrest.score(perguntas_teste_tfidf, tags_teste_array)\n",
        "print(\"Resultado {0: .2f}%\".format(resultado_onevsrest*100))\n",
        "\n",
        "previsao_onevsrest = classificador_onevsrest.predict(perguntas_teste_tfidf)\n",
        "hamming_loss_onevsrest = hamming_loss(tags_teste_array, previsao_onevsrest)\n",
        "print(\"Hamming Loss {0: .2f}\".format(hamming_loss_onevsrest))"
      ]
    },
    {
      "cell_type": "code",
      "execution_count": 44,
      "metadata": {},
      "outputs": [
        {
          "data": {
            "text/html": [
              "<div>\n",
              "<style scoped>\n",
              "    .dataframe tbody tr th:only-of-type {\n",
              "        vertical-align: middle;\n",
              "    }\n",
              "\n",
              "    .dataframe tbody tr th {\n",
              "        vertical-align: top;\n",
              "    }\n",
              "\n",
              "    .dataframe thead th {\n",
              "        text-align: right;\n",
              "    }\n",
              "</style>\n",
              "<table border=\"1\" class=\"dataframe\">\n",
              "  <thead>\n",
              "    <tr style=\"text-align: right;\">\n",
              "      <th></th>\n",
              "      <th>node.js</th>\n",
              "      <th>jquery</th>\n",
              "      <th>html</th>\n",
              "      <th>angular</th>\n",
              "    </tr>\n",
              "  </thead>\n",
              "  <tbody>\n",
              "    <tr>\n",
              "      <th>node.js</th>\n",
              "      <td>1.000000</td>\n",
              "      <td>-0.321485</td>\n",
              "      <td>-0.273523</td>\n",
              "      <td>-0.101787</td>\n",
              "    </tr>\n",
              "    <tr>\n",
              "      <th>jquery</th>\n",
              "      <td>-0.321485</td>\n",
              "      <td>1.000000</td>\n",
              "      <td>-0.253977</td>\n",
              "      <td>-0.366269</td>\n",
              "    </tr>\n",
              "    <tr>\n",
              "      <th>html</th>\n",
              "      <td>-0.273523</td>\n",
              "      <td>-0.253977</td>\n",
              "      <td>1.000000</td>\n",
              "      <td>-0.286706</td>\n",
              "    </tr>\n",
              "    <tr>\n",
              "      <th>angular</th>\n",
              "      <td>-0.101787</td>\n",
              "      <td>-0.366269</td>\n",
              "      <td>-0.286706</td>\n",
              "      <td>1.000000</td>\n",
              "    </tr>\n",
              "  </tbody>\n",
              "</table>\n",
              "</div>"
            ],
            "text/plain": [
              "          node.js    jquery      html   angular\n",
              "node.js  1.000000 -0.321485 -0.273523 -0.101787\n",
              "jquery  -0.321485  1.000000 -0.253977 -0.366269\n",
              "html    -0.273523 -0.253977  1.000000 -0.286706\n",
              "angular -0.101787 -0.366269 -0.286706  1.000000"
            ]
          },
          "execution_count": 44,
          "metadata": {},
          "output_type": "execute_result"
        }
      ],
      "source": [
        "df_perguntas.corr()"
      ]
    },
    {
      "attachments": {},
      "cell_type": "markdown",
      "metadata": {},
      "source": [
        "## Classifier Chain strategy with Logistic Regression"
      ]
    },
    {
      "cell_type": "code",
      "execution_count": 45,
      "metadata": {
        "colab": {
          "base_uri": "https://localhost:8080/"
        },
        "id": "AY7QMOzVbElP",
        "outputId": "98ac6682-cee1-411d-b0ae-75806a654adb"
      },
      "outputs": [
        {
          "name": "stdout",
          "output_type": "stream",
          "text": [
            "Resultado  49.54%\n",
            "Hamming Loss  0.21\n"
          ]
        }
      ],
      "source": [
        "classificador_cadeia = ClassifierChain(regressao_logistica)\n",
        "classificador_cadeia.fit(perguntas_treino_tfidf, tags_treino_array)\n",
        "resultado_cadeia = classificador_cadeia.score(perguntas_teste_tfidf, tags_teste_array)\n",
        "print(\"Resultado {0: .2f}%\".format(resultado_cadeia*100))\n",
        "\n",
        "previsao_cadeia = classificador_cadeia.predict(perguntas_teste_tfidf)\n",
        "hamming_loss_cadeia = hamming_loss(tags_teste_array, previsao_cadeia)\n",
        "print(\"Hamming Loss {0: .2f}\".format(hamming_loss_cadeia))"
      ]
    },
    {
      "attachments": {},
      "cell_type": "markdown",
      "metadata": {},
      "source": [
        "## Binary Relevance strategy with Logistic Regression"
      ]
    },
    {
      "cell_type": "code",
      "execution_count": 46,
      "metadata": {
        "colab": {
          "base_uri": "https://localhost:8080/"
        },
        "id": "pJgZ2sGG0ueU",
        "outputId": "f58fa84d-4671-47a9-f2e3-a61915d73395"
      },
      "outputs": [
        {
          "name": "stdout",
          "output_type": "stream",
          "text": [
            "Resultado  39.65%\n",
            "Hamming Loss  0.19\n"
          ]
        }
      ],
      "source": [
        "classificador_br = BinaryRelevance(regressao_logistica)\n",
        "classificador_br.fit(perguntas_treino_tfidf, tags_treino_array)\n",
        "resultado_br = classificador_br.score(perguntas_teste_tfidf, tags_teste_array)\n",
        "print(\"Resultado {0: .2f}%\".format(resultado_br*100))\n",
        "\n",
        "previsao_br= classificador_br.predict(perguntas_teste_tfidf)\n",
        "hamming_loss_br = hamming_loss(tags_teste_array, previsao_br)\n",
        "print(\"Hamming Loss {0: .2f}\".format(hamming_loss_br))"
      ]
    },
    {
      "attachments": {},
      "cell_type": "markdown",
      "metadata": {},
      "source": [
        "## Multilabel k-Nearest Neighbours strategy"
      ]
    },
    {
      "cell_type": "code",
      "execution_count": 47,
      "metadata": {
        "id": "AttNEwlv4hRS"
      },
      "outputs": [
        {
          "name": "stderr",
          "output_type": "stream",
          "text": [
            "c:\\Users\\vinic\\anaconda3\\lib\\site-packages\\sklearn\\utils\\validation.py:70: FutureWarning: Pass n_neighbors=10 as keyword args. From version 1.0 (renaming of 0.25) passing these as positional arguments will result in an error\n",
            "  warnings.warn(f\"Pass {args_msg} as keyword args. From version \"\n"
          ]
        },
        {
          "name": "stdout",
          "output_type": "stream",
          "text": [
            "Resultado  33.27%\n",
            "Hamming Loss  0.25\n"
          ]
        }
      ],
      "source": [
        "classificador_mlknn = MLkNN()\n",
        "classificador_mlknn.fit(perguntas_treino_tfidf, tags_treino_array)\n",
        "resultado_mlknn = classificador_mlknn.score(perguntas_teste_tfidf, tags_teste_array)\n",
        "print(\"Resultado {0: .2f}%\".format(resultado_mlknn*100))\n",
        "\n",
        "previsao_mlknn = classificador_mlknn.predict(perguntas_teste_tfidf)\n",
        "hamming_loss_mlknn = hamming_loss(tags_teste_array, previsao_mlknn)\n",
        "print(\"Hamming Loss {0: .2f}\".format(hamming_loss_mlknn))"
      ]
    },
    {
      "attachments": {},
      "cell_type": "markdown",
      "metadata": {},
      "source": [
        "## Results"
      ]
    },
    {
      "cell_type": "code",
      "execution_count": 48,
      "metadata": {
        "colab": {
          "base_uri": "https://localhost:8080/",
          "height": 424
        },
        "id": "vv__Myqj-I2G",
        "outputId": "6d9fe1a2-af9b-47b4-9de9-c899088366cf"
      },
      "outputs": [
        {
          "data": {
            "text/html": [
              "<div>\n",
              "<style scoped>\n",
              "    .dataframe tbody tr th:only-of-type {\n",
              "        vertical-align: middle;\n",
              "    }\n",
              "\n",
              "    .dataframe tbody tr th {\n",
              "        vertical-align: top;\n",
              "    }\n",
              "\n",
              "    .dataframe thead th {\n",
              "        text-align: right;\n",
              "    }\n",
              "</style>\n",
              "<table border=\"1\" class=\"dataframe\">\n",
              "  <thead>\n",
              "    <tr style=\"text-align: right;\">\n",
              "      <th></th>\n",
              "      <th>perguntas</th>\n",
              "      <th>tags real</th>\n",
              "      <th>BR</th>\n",
              "      <th>Cadeia</th>\n",
              "      <th>OneVsRest</th>\n",
              "      <th>MLkNN</th>\n",
              "    </tr>\n",
              "  </thead>\n",
              "  <tbody>\n",
              "    <tr>\n",
              "      <th>0</th>\n",
              "      <td>Tenho algumas inputs que deverão se autopreenc...</td>\n",
              "      <td>(0, 1, 0, 0)</td>\n",
              "      <td>[0, 1, 0, 0]</td>\n",
              "      <td>[0.0, 1.0, 0.0, 0.0]</td>\n",
              "      <td>[0, 1, 0, 0]</td>\n",
              "      <td>[0, 1, 1, 0]</td>\n",
              "    </tr>\n",
              "    <tr>\n",
              "      <th>1</th>\n",
              "      <td>Tenho um site em PHP no qual tenho de carregar...</td>\n",
              "      <td>(0, 1, 1, 0)</td>\n",
              "      <td>[0, 0, 0, 0]</td>\n",
              "      <td>[0.0, 0.0, 1.0, 0.0]</td>\n",
              "      <td>[0, 0, 0, 0]</td>\n",
              "      <td>[0, 0, 0, 0]</td>\n",
              "    </tr>\n",
              "    <tr>\n",
              "      <th>2</th>\n",
              "      <td>Como faço para criar um popup com um CODE  em ...</td>\n",
              "      <td>(0, 1, 0, 0)</td>\n",
              "      <td>[0, 1, 0, 0]</td>\n",
              "      <td>[0.0, 1.0, 0.0, 0.0]</td>\n",
              "      <td>[0, 1, 0, 0]</td>\n",
              "      <td>[0, 1, 0, 0]</td>\n",
              "    </tr>\n",
              "    <tr>\n",
              "      <th>3</th>\n",
              "      <td>Tenho esse json CODE   Preciso percorrer e tra...</td>\n",
              "      <td>(0, 1, 0, 0)</td>\n",
              "      <td>[0, 1, 0, 0]</td>\n",
              "      <td>[0.0, 1.0, 0.0, 0.0]</td>\n",
              "      <td>[0, 1, 0, 0]</td>\n",
              "      <td>[0, 1, 0, 0]</td>\n",
              "    </tr>\n",
              "    <tr>\n",
              "      <th>4</th>\n",
              "      <td>Como faço para pegar os atributos de um objeto...</td>\n",
              "      <td>(0, 1, 0, 0)</td>\n",
              "      <td>[0, 0, 0, 0]</td>\n",
              "      <td>[0.0, 0.0, 1.0, 0.0]</td>\n",
              "      <td>[0, 0, 0, 0]</td>\n",
              "      <td>[0, 0, 1, 0]</td>\n",
              "    </tr>\n",
              "    <tr>\n",
              "      <th>...</th>\n",
              "      <td>...</td>\n",
              "      <td>...</td>\n",
              "      <td>...</td>\n",
              "      <td>...</td>\n",
              "      <td>...</td>\n",
              "      <td>...</td>\n",
              "    </tr>\n",
              "    <tr>\n",
              "      <th>1077</th>\n",
              "      <td>Tenho um código que forma a tela de perfil do ...</td>\n",
              "      <td>(0, 0, 1, 0)</td>\n",
              "      <td>[0, 1, 0, 0]</td>\n",
              "      <td>[0.0, 1.0, 0.0, 0.0]</td>\n",
              "      <td>[0, 1, 0, 0]</td>\n",
              "      <td>[0, 1, 0, 0]</td>\n",
              "    </tr>\n",
              "    <tr>\n",
              "      <th>1078</th>\n",
              "      <td>Como fazer para que as mensagens de validação ...</td>\n",
              "      <td>(0, 1, 0, 0)</td>\n",
              "      <td>[0, 1, 0, 0]</td>\n",
              "      <td>[0.0, 1.0, 0.0, 0.0]</td>\n",
              "      <td>[0, 1, 0, 0]</td>\n",
              "      <td>[0, 0, 0, 0]</td>\n",
              "    </tr>\n",
              "    <tr>\n",
              "      <th>1079</th>\n",
              "      <td>Fala galera, beleza ?  Tenho uma duvida... Est...</td>\n",
              "      <td>(0, 0, 1, 0)</td>\n",
              "      <td>[0, 0, 0, 0]</td>\n",
              "      <td>[0.0, 0.0, 1.0, 0.0]</td>\n",
              "      <td>[0, 0, 0, 0]</td>\n",
              "      <td>[0, 0, 0, 0]</td>\n",
              "    </tr>\n",
              "    <tr>\n",
              "      <th>1080</th>\n",
              "      <td>Hoje possuo alguns fomulários em janelas (moda...</td>\n",
              "      <td>(0, 0, 1, 0)</td>\n",
              "      <td>[0, 1, 0, 0]</td>\n",
              "      <td>[0.0, 1.0, 0.0, 0.0]</td>\n",
              "      <td>[0, 1, 0, 0]</td>\n",
              "      <td>[0, 0, 0, 1]</td>\n",
              "    </tr>\n",
              "    <tr>\n",
              "      <th>1081</th>\n",
              "      <td>Supondo que eu tenha 4 divs cuja a classe é \"b...</td>\n",
              "      <td>(0, 1, 0, 0)</td>\n",
              "      <td>[0, 1, 0, 0]</td>\n",
              "      <td>[0.0, 1.0, 0.0, 0.0]</td>\n",
              "      <td>[0, 1, 0, 0]</td>\n",
              "      <td>[0, 1, 0, 0]</td>\n",
              "    </tr>\n",
              "  </tbody>\n",
              "</table>\n",
              "<p>1082 rows × 6 columns</p>\n",
              "</div>"
            ],
            "text/plain": [
              "                                              perguntas     tags real  \\\n",
              "0     Tenho algumas inputs que deverão se autopreenc...  (0, 1, 0, 0)   \n",
              "1     Tenho um site em PHP no qual tenho de carregar...  (0, 1, 1, 0)   \n",
              "2     Como faço para criar um popup com um CODE  em ...  (0, 1, 0, 0)   \n",
              "3     Tenho esse json CODE   Preciso percorrer e tra...  (0, 1, 0, 0)   \n",
              "4     Como faço para pegar os atributos de um objeto...  (0, 1, 0, 0)   \n",
              "...                                                 ...           ...   \n",
              "1077  Tenho um código que forma a tela de perfil do ...  (0, 0, 1, 0)   \n",
              "1078  Como fazer para que as mensagens de validação ...  (0, 1, 0, 0)   \n",
              "1079  Fala galera, beleza ?  Tenho uma duvida... Est...  (0, 0, 1, 0)   \n",
              "1080  Hoje possuo alguns fomulários em janelas (moda...  (0, 0, 1, 0)   \n",
              "1081  Supondo que eu tenha 4 divs cuja a classe é \"b...  (0, 1, 0, 0)   \n",
              "\n",
              "                BR                Cadeia     OneVsRest         MLkNN  \n",
              "0     [0, 1, 0, 0]  [0.0, 1.0, 0.0, 0.0]  [0, 1, 0, 0]  [0, 1, 1, 0]  \n",
              "1     [0, 0, 0, 0]  [0.0, 0.0, 1.0, 0.0]  [0, 0, 0, 0]  [0, 0, 0, 0]  \n",
              "2     [0, 1, 0, 0]  [0.0, 1.0, 0.0, 0.0]  [0, 1, 0, 0]  [0, 1, 0, 0]  \n",
              "3     [0, 1, 0, 0]  [0.0, 1.0, 0.0, 0.0]  [0, 1, 0, 0]  [0, 1, 0, 0]  \n",
              "4     [0, 0, 0, 0]  [0.0, 0.0, 1.0, 0.0]  [0, 0, 0, 0]  [0, 0, 1, 0]  \n",
              "...            ...                   ...           ...           ...  \n",
              "1077  [0, 1, 0, 0]  [0.0, 1.0, 0.0, 0.0]  [0, 1, 0, 0]  [0, 1, 0, 0]  \n",
              "1078  [0, 1, 0, 0]  [0.0, 1.0, 0.0, 0.0]  [0, 1, 0, 0]  [0, 0, 0, 0]  \n",
              "1079  [0, 0, 0, 0]  [0.0, 0.0, 1.0, 0.0]  [0, 0, 0, 0]  [0, 0, 0, 0]  \n",
              "1080  [0, 1, 0, 0]  [0.0, 1.0, 0.0, 0.0]  [0, 1, 0, 0]  [0, 0, 0, 1]  \n",
              "1081  [0, 1, 0, 0]  [0.0, 1.0, 0.0, 0.0]  [0, 1, 0, 0]  [0, 1, 0, 0]  \n",
              "\n",
              "[1082 rows x 6 columns]"
            ]
          },
          "execution_count": 48,
          "metadata": {},
          "output_type": "execute_result"
        }
      ],
      "source": [
        "resultados_classificacao = pd.DataFrame()\n",
        "resultados_classificacao[\"perguntas\"] = perguntas_teste.values\n",
        "resultados_classificacao[\"tags real\"] = list(tags_teste)\n",
        "resultados_classificacao[\"BR\"] = list(previsao_br.toarray())\n",
        "resultados_classificacao[\"Cadeia\"] = list(previsao_cadeia.toarray())\n",
        "resultados_classificacao[\"OneVsRest\"] = list(previsao_onevsrest)\n",
        "resultados_classificacao[\"MLkNN\"] = list(previsao_mlknn.toarray())\n",
        "resultados_classificacao"
      ]
    },
    {
      "cell_type": "code",
      "execution_count": 49,
      "metadata": {
        "colab": {
          "base_uri": "https://localhost:8080/",
          "height": 35
        },
        "id": "HqhdxXok_FrA",
        "outputId": "4fec862a-ef2d-44fe-d7fb-08ee48b80add"
      },
      "outputs": [
        {
          "data": {
            "text/plain": [
              "'Tenho um site em PHP no qual tenho de carregar varias paginas.Porem só uma vez. O que esta acontecendo é a sobreposição de telas com varias inclusões.  CODE   Erro da Tela'"
            ]
          },
          "execution_count": 49,
          "metadata": {},
          "output_type": "execute_result"
        }
      ],
      "source": [
        "resultados_classificacao.perguntas.iloc[1]"
      ]
    }
  ],
  "metadata": {
    "colab": {
      "provenance": []
    },
    "kernelspec": {
      "display_name": "Python 3",
      "name": "python3"
    },
    "language_info": {
      "codemirror_mode": {
        "name": "ipython",
        "version": 3
      },
      "file_extension": ".py",
      "mimetype": "text/x-python",
      "name": "python",
      "nbconvert_exporter": "python",
      "pygments_lexer": "ipython3",
      "version": "3.9.12"
    }
  },
  "nbformat": 4,
  "nbformat_minor": 0
}
